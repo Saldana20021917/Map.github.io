{
  "nbformat": 4,
  "nbformat_minor": 0,
  "metadata": {
    "colab": {
      "provenance": [],
      "authorship_tag": "ABX9TyNCxT2g08211WD5SR1OMbOB",
      "include_colab_link": true
    },
    "kernelspec": {
      "name": "python3",
      "display_name": "Python 3"
    },
    "language_info": {
      "name": "python"
    }
  },
  "cells": [
    {
      "cell_type": "markdown",
      "metadata": {
        "id": "view-in-github",
        "colab_type": "text"
      },
      "source": [
        "<a href=\"https://colab.research.google.com/github/Saldana20021917/Map.github.io/blob/main/Banco_Mundial.ipynb\" target=\"_parent\"><img src=\"https://colab.research.google.com/assets/colab-badge.svg\" alt=\"Open In Colab\"/></a>"
      ]
    },
    {
      "cell_type": "code",
      "source": [
        "import requests\n",
        "import pandas as pd\n",
        "\n",
        "# Indicadores\n",
        "indicadores = {\n",
        "    \"NY.GDP.MKTP.CD\": \"PIB (USD a precios actuales)\",\n",
        "    \"NY.GDP.PCAP.CD\": \"PIB per cápita (USD actuales)\",\n",
        "    \"NY.GDP.MKTP.KD.ZG\": \"Crecimiento del PIB (% anual)\",\n",
        "    \"NE.GDI.FTOT.ZS\": \"Formación bruta de capital fijo (% PIB)\",\n",
        "    \"FP.CPI.TOTL.ZG\": \"Inflación (IPC, % anual)\",\n",
        "    \"NE.EXP.GNFS.ZS\": \"Exportaciones (% del PIB)\",\n",
        "    \"NE.IMP.GNFS.ZS\": \"Importaciones (% del PIB)\",\n",
        "    \"BN.GSR.GNFS.CD\": \"Balanza comercial (USD actuales)\",\n",
        "    \"TM.TAX.MANF.WM.AR.ZS\": \"Tasa arancelaria promedio ponderada (%)\",\n",
        "    \"SL.EMP.TOTL.SP.ZS\": \"Tasa de empleo (% población)\",\n",
        "    \"SL.UEM.TOTL.ZS\": \"Tasa de desempleo (% fuerza laboral)\",\n",
        "    \"SI.POV.NAHC\": \"Pobreza (% bajo la línea nacional)\",\n",
        "    \"NY.GNP.PCAP.PP.CD\": \"Ingreso per cápita (PPP, USD internacionales)\"\n",
        "}\n",
        "\n",
        "# Años\n",
        "años = \"2000:2024\"\n",
        "\n",
        "# Países de América del Sur (ISO-3)\n",
        "paises_suramerica = [\"ARG\", \"BOL\", \"BRA\", \"CHL\", \"COL\", \"ECU\", \"GUY\", \"PRY\", \"PER\", \"SUR\", \"URY\", \"VEN\"]\n",
        "\n",
        "# Lista para almacenar resultados\n",
        "data_list = []\n",
        "\n",
        "# Iterar sobre cada indicador y país\n",
        "for codigo, nombre in indicadores.items():\n",
        "    url = f\"https://api.worldbank.org/v2/country/{';'.join(paises_suramerica)}/indicator/{codigo}?date={años}&format=json&per_page=20000&language=es\"\n",
        "    response = requests.get(url)\n",
        "\n",
        "    if response.status_code == 200:\n",
        "        data = response.json()\n",
        "\n",
        "        if len(data) > 1 and isinstance(data[1], list):\n",
        "            df = pd.DataFrame(data[1])\n",
        "            df = df[['country', 'date', 'value']]\n",
        "            df['country'] = df['country'].apply(lambda x: x['value'])\n",
        "            df = df.rename(columns={'value': nombre})\n",
        "            data_list.append(df)\n",
        "        else:\n",
        "            print(f\"No se encontraron datos para {nombre} ({codigo})\")\n",
        "    else:\n",
        "        print(f\"Error al obtener {nombre} ({codigo}): {response.status_code}\")\n",
        "\n",
        "# Unir todos los DataFrames por país y año\n",
        "if data_list:\n",
        "    df_final = data_list[0]\n",
        "    for df in data_list[1:]:\n",
        "        df_final = pd.merge(df_final, df, on=['country', 'date'], how='outer')\n",
        "\n",
        "    # Exportar a Excel\n",
        "    df_final.to_excel(\"datos_america_del_sur.xlsx\", index=False)\n",
        "    print(\"Archivo guardado como 'datos_america_del_sur.xlsx'\")\n",
        "else:\n",
        "    print(\"No se obtuvieron datos para ningún indicador.\")\n"
      ],
      "metadata": {
        "id": "sxCnzMwg2FYD"
      },
      "execution_count": null,
      "outputs": []
    },
    {
      "cell_type": "markdown",
      "source": [
        "# Consumir API del Banco Mundial\n",
        "\n",
        "\n",
        "\n",
        "\n",
        "\n"
      ],
      "metadata": {
        "id": "mGz7TGXI8gQZ"
      }
    },
    {
      "cell_type": "markdown",
      "source": [
        "**1. Importación de Librerías**"
      ],
      "metadata": {
        "id": "XwR2PR90C_J8"
      }
    },
    {
      "cell_type": "code",
      "source": [
        "import requests\n",
        "import pandas as pd"
      ],
      "metadata": {
        "id": "jhCj27peBFeH"
      },
      "execution_count": 1,
      "outputs": []
    },
    {
      "cell_type": "markdown",
      "source": [
        "\n",
        "**Se importan las librerías necesarias:**\n",
        "\n",
        "**requests:** Permite realizar solicitudes HTTP para obtener datos desde la API del Banco Mundial.\n",
        "\n",
        "**pandas:** Librería para manipulación y análisis de datos en formato tabular, ideal para organizar la información recibida."
      ],
      "metadata": {
        "id": "9PK6SW3iBVu3"
      }
    },
    {
      "cell_type": "markdown",
      "source": [
        "**2. Crear diccionario de indicadores necesarios**"
      ],
      "metadata": {
        "id": "FB-oZ8GlBegq"
      }
    },
    {
      "cell_type": "code",
      "source": [
        "indicadores = {\n",
        "    \"NY.GDP.MKTP.CD\": \"PIB (USD a precios actuales)\",\n",
        "    \"NY.GDP.PCAP.CD\": \"PIB per cápita (USD actuales)\",\n",
        "    \"NY.GDP.MKTP.KD.ZG\": \"Crecimiento del PIB (% anual)\",\n",
        "    \"NE.GDI.FTOT.ZS\": \"Formación bruta de capital fijo (% PIB)\",\n",
        "    \"FP.CPI.TOTL.ZG\": \"Inflación (IPC, % anual)\",\n",
        "    \"NE.EXP.GNFS.ZS\": \"Exportaciones (% del PIB)\",\n",
        "    \"NE.IMP.GNFS.ZS\": \"Importaciones (% del PIB)\",\n",
        "    \"BN.GSR.GNFS.CD\": \"Balanza comercial (USD actuales)\",\n",
        "    \"TM.TAX.MANF.WM.AR.ZS\": \"Tasa arancelaria promedio ponderada (%)\",\n",
        "    \"SL.EMP.TOTL.SP.ZS\": \"Tasa de empleo (% población)\",\n",
        "    \"SL.UEM.TOTL.ZS\": \"Tasa de desempleo (% fuerza laboral)\",\n",
        "    \"SI.POV.NAHC\": \"Pobreza (% bajo la línea nacional)\",\n",
        "    \"NY.GNP.PCAP.PP.CD\": \"Ingreso per cápita (PPP, USD internacionales)\"\n",
        "}"
      ],
      "metadata": {
        "id": "DAmokHnMB0km"
      },
      "execution_count": 2,
      "outputs": []
    },
    {
      "cell_type": "markdown",
      "source": [
        "El diccionario almacena los códigos de los indicadores como claves y sus descripciones como valores, facilitando la identificación posterior de los datos extraídos."
      ],
      "metadata": {
        "id": "xf_pDODBBejU"
      }
    },
    {
      "cell_type": "markdown",
      "source": [
        "**3. Definición del Rango de Años**"
      ],
      "metadata": {
        "id": "LCVmbC91CAOG"
      }
    },
    {
      "cell_type": "code",
      "source": [
        "años = \"2000:2023\""
      ],
      "metadata": {
        "id": "D5mLoALiBFiB"
      },
      "execution_count": 3,
      "outputs": []
    },
    {
      "cell_type": "markdown",
      "source": [
        "Se define el rango de años de interés para consultar los datos, en este caso desde 2000 hasta 2023.\n"
      ],
      "metadata": {
        "id": "ZgU9pejIBdwc"
      }
    },
    {
      "cell_type": "markdown",
      "source": [
        "**4. Definimos los paises a utilizar**"
      ],
      "metadata": {
        "id": "4VAGkfDQ5WNk"
      }
    },
    {
      "cell_type": "markdown",
      "source": [
        "Aqui debemos poner el ISO-3 de los paises a utilizar"
      ],
      "metadata": {
        "id": "bC6ZjXlD5g7f"
      }
    },
    {
      "cell_type": "code",
      "source": [
        "paises_suramerica = [\"ARG\", \"BOL\", \"BRA\", \"CHL\", \"COL\", \"ECU\", \"GUY\", \"PRY\", \"PER\", \"SUR\", \"URY\", \"VEN\"]"
      ],
      "metadata": {
        "id": "Fx-rtnYi5XSg"
      },
      "execution_count": 4,
      "outputs": []
    },
    {
      "cell_type": "markdown",
      "source": [
        "**5. Lista para Almacenar Datos**"
      ],
      "metadata": {
        "id": "2QZjwFmKCNRy"
      }
    },
    {
      "cell_type": "code",
      "source": [
        "data_list = []"
      ],
      "metadata": {
        "id": "wl3IvWwWCMxV"
      },
      "execution_count": 5,
      "outputs": []
    },
    {
      "cell_type": "markdown",
      "source": [
        "Se crea una lista vacía que almacenará los DataFrames de cada indicador para facilitar la combinación posterior."
      ],
      "metadata": {
        "id": "3edcg4TiBU5Y"
      }
    },
    {
      "cell_type": "markdown",
      "source": [
        "**6. Iteración sobre los Indicadores**"
      ],
      "metadata": {
        "id": "pvcTCHEwCdDw"
      }
    },
    {
      "cell_type": "code",
      "source": [
        "for codigo, nombre in indicadores.items():\n",
        "    url = f\"https://api.worldbank.org/v2/country/{';'.join(paises_suramerica)}/indicator/{codigo}?date={años}&format=json&per_page=20000&language=es\"\n",
        "    response = requests.get(url)"
      ],
      "metadata": {
        "id": "UhggLLnFCdez"
      },
      "execution_count": 16,
      "outputs": []
    },
    {
      "cell_type": "markdown",
      "source": [
        "Aqui recorremos el diccionario \"indicadores\" usando el método items(), que devuelve pares clave-valor. La variable codigo contiene el código del indicador del Banco Mundial (clave) y nombre su descripción (valor). Para cada par, se construye una URL que consulta los datos del indicador en todos los países de América del Sur definidos en la lista paises_suramerica.\n",
        "\n",
        "La URL se forma utilizando una cadena formateada (f-string) con los siguientes elementos:\n",
        "\n",
        "**country={';'.join(paises_suramerica)}:** Se incluyen los países a utilizar como una única cadena, separados por punto y coma, tal como lo exige la API para realizar solicitudes múltiples de países en una sola consulta.\n",
        "\n",
        "**indicator={codigo}:** Se inserta el código del indicador correspondiente en cada iteración. Tambien se puede colocar \"all\" y se obtienen todos los paises disponibles para el bancon mundial.\n",
        "\n",
        "**?date={años}:** Rango de años definido.\n",
        "\n",
        "**&format**=json: Indica que la respuesta debe estar en formato JSON.\n",
        "\n",
        "**&per_page=20000:** Establece el número máximo de registros por página.\n",
        "\n",
        "**&language=es:** Solicita que los datos vengan en idioma español."
      ],
      "metadata": {
        "id": "fk7AkZoHCoiq"
      }
    },
    {
      "cell_type": "markdown",
      "source": [
        "\n",
        "\n",
        "**7. Validación de Respuesta**"
      ],
      "metadata": {
        "id": "tnXT2N6_DJWq"
      }
    },
    {
      "cell_type": "code",
      "source": [
        "if response.status_code == 200:\n",
        "    data = response.json()"
      ],
      "metadata": {
        "id": "z9W269fXDJ_s"
      },
      "execution_count": 7,
      "outputs": []
    },
    {
      "cell_type": "markdown",
      "source": [
        "La API devuelve códigos HTTP, donde 200 indica éxito. Si se recibe este código, se convierte la respuesta JSON a un objeto Python con json(), que facilita la manipulación de los datos."
      ],
      "metadata": {
        "id": "T-A_zrUPDKiy"
      }
    },
    {
      "cell_type": "markdown",
      "source": [
        "**8. Verificación de Datos**"
      ],
      "metadata": {
        "id": "LfGkJGNjDU4D"
      }
    },
    {
      "cell_type": "code",
      "source": [
        "if len(data) > 1 and isinstance(data[1], list):\n",
        "    df = pd.DataFrame(data[1])"
      ],
      "metadata": {
        "id": "e_4cQOZLCoRD"
      },
      "execution_count": 8,
      "outputs": []
    },
    {
      "cell_type": "markdown",
      "source": [
        "\n",
        "\n",
        "La API devuelve los datos en una lista.\n",
        "\n",
        "**len(data) > 1:** Asegura que haya más de un elemento.\n",
        "\n",
        "**isinstance(data[1], list):** Comprueba que el segundo elemento sea una lista antes de convertirla en DataFrame con pd.DataFrame()."
      ],
      "metadata": {
        "id": "WhvBaRFIDcb7"
      }
    },
    {
      "cell_type": "markdown",
      "source": [
        "**9. Selección de Columnas Relevantes**"
      ],
      "metadata": {
        "id": "FluoEpzoD_Z6"
      }
    },
    {
      "cell_type": "code",
      "source": [
        "df = df[['country', 'date', 'value']]\n",
        "df['country'] = df['country'].apply(lambda x: x['value'])"
      ],
      "metadata": {
        "id": "erPP0cVSECFU"
      },
      "execution_count": null,
      "outputs": []
    },
    {
      "cell_type": "markdown",
      "source": [
        "Se seleccionan solo las columnas necesarias:\n",
        "\n",
        "**country:** Nombre del país.\n",
        "\n",
        "**date:** Año.\n",
        "\n",
        "**value:** Valor del indicador.\n",
        "\n",
        "La columna country contiene diccionarios, por lo que se aplica una función lambda con apply() para extraer el valor con la clave 'value'."
      ],
      "metadata": {
        "id": "1qcvQKO6EChj"
      }
    },
    {
      "cell_type": "markdown",
      "source": [
        "**10. Renombrar la Columna**"
      ],
      "metadata": {
        "id": "4vHDs5H4Eecb"
      }
    },
    {
      "cell_type": "code",
      "source": [
        "df = df.rename(columns={'value': nombre})"
      ],
      "metadata": {
        "id": "2mAMkJIHEe9D"
      },
      "execution_count": 10,
      "outputs": []
    },
    {
      "cell_type": "markdown",
      "source": [
        "\n",
        "\n",
        "El método rename() cambia el nombre de la columna value por el nombre descriptivo del indicador (lo agregamos inicialmente en el diccionario), lo que facilita la interpretación."
      ],
      "metadata": {
        "id": "3rRZpWgxEfV7"
      }
    },
    {
      "cell_type": "markdown",
      "source": [
        "**11. Almacenar el DataFrame**"
      ],
      "metadata": {
        "id": "t7lKwjiyE_dN"
      }
    },
    {
      "cell_type": "code",
      "source": [
        "data_list.append(df)"
      ],
      "metadata": {
        "id": "RKl6lfGBFY9k"
      },
      "execution_count": 11,
      "outputs": []
    },
    {
      "cell_type": "markdown",
      "source": [
        "El DataFrame procesado se agrega a la lista para su posterior combinación."
      ],
      "metadata": {
        "id": "OJiG0DqkFZRt"
      }
    },
    {
      "cell_type": "markdown",
      "source": [
        "**12. Mensajes de Error**"
      ],
      "metadata": {
        "id": "3oiG-Rx1Fjmz"
      }
    },
    {
      "cell_type": "code",
      "source": [
        "else:\n",
        "  print(f\" No se encontraron datos para {nombre} ({codigo})\")"
      ],
      "metadata": {
        "id": "zReiVdaTFjZh",
        "colab": {
          "base_uri": "https://localhost:8080/",
          "height": 106
        },
        "outputId": "d1b5bf8f-dbe6-4b45-903c-2f82637555bb"
      },
      "execution_count": 13,
      "outputs": [
        {
          "output_type": "error",
          "ename": "SyntaxError",
          "evalue": "invalid syntax (<ipython-input-13-3df1cc688c3b>, line 1)",
          "traceback": [
            "\u001b[0;36m  File \u001b[0;32m\"<ipython-input-13-3df1cc688c3b>\"\u001b[0;36m, line \u001b[0;32m1\u001b[0m\n\u001b[0;31m    else:\u001b[0m\n\u001b[0m    ^\u001b[0m\n\u001b[0;31mSyntaxError\u001b[0m\u001b[0;31m:\u001b[0m invalid syntax\n"
          ]
        }
      ]
    },
    {
      "cell_type": "markdown",
      "source": [
        "Si no hay datos disponibles para el indicador, se genera un mensaje de advertencia para informar al usuario."
      ],
      "metadata": {
        "id": "glMeHoT5FjLr"
      }
    },
    {
      "cell_type": "code",
      "source": [
        "else:\n",
        " print(f\"Error al obtener {nombre} ({codigo}): {response.status_code}\")"
      ],
      "metadata": {
        "id": "S441xKxP8cJV"
      },
      "execution_count": null,
      "outputs": []
    },
    {
      "cell_type": "markdown",
      "source": [
        "Este bloque se ejecuta cuando la respuesta de la API no fue exitosa."
      ],
      "metadata": {
        "id": "sLZfDGIC8cvn"
      }
    },
    {
      "cell_type": "markdown",
      "source": [
        "**13. Fusión de DataFrames**"
      ],
      "metadata": {
        "id": "IbFPMZ0uFz2u"
      }
    },
    {
      "cell_type": "code",
      "source": [
        "if data_list:\n",
        "    df_final = data_list[0]\n",
        "    for df in data_list[1:]:\n",
        "        df_final = pd.merge(df_final, df, on=['country', 'date'], how='outer')"
      ],
      "metadata": {
        "id": "yMb1UO5YF5Ny"
      },
      "execution_count": null,
      "outputs": []
    },
    {
      "cell_type": "markdown",
      "source": [
        "Teniendo en cuenta que no nos salio ningun error. Realizamos un mergue osea un ( pegado) por lo cual se fusionan todos los DataFrames de la lista utilizando una unión externa (outer). Esto asegura que no se pierdan datos incluso si algunos indicadores no están disponibles para ciertos países o años."
      ],
      "metadata": {
        "id": "iQrjAlwvF561"
      }
    },
    {
      "cell_type": "markdown",
      "source": [
        "**14. Exportación a Excel**"
      ],
      "metadata": {
        "id": "eKS4q2K_GNl0"
      }
    },
    {
      "cell_type": "code",
      "source": [
        "  df_final.to_excel(\"datos_america_del_sur.xlsx\", index=False)\n",
        "  print(\"Archivo guardado como 'datos_america_del_sur.xlsx'\")\n",
        "else:\n",
        "  print(\"No se obtuvieron datos para ningún indicador.\")"
      ],
      "metadata": {
        "id": "56nfddzQGRVL"
      },
      "execution_count": null,
      "outputs": []
    },
    {
      "cell_type": "markdown",
      "source": [
        "Por ultimo se hace una exportacion, en este caso a excel, pero tambien se puede exportar en multiples formatos, y esta las alerta por si no se ejecuta el consumo de la API"
      ],
      "metadata": {
        "id": "lwZLeZQNGRnr"
      }
    },
    {
      "cell_type": "markdown",
      "source": [
        "# Conclusión\n",
        "\n",
        "Este código permite automatizar la extracción de datos económicos y sociales desde la API del Banco Mundial, garantizando la obtención de información actualizada para múltiples países y años. Facilita la integración de diferentes indicadores en un solo archivo para su posterior análisis.\n",
        "\n"
      ],
      "metadata": {
        "id": "PChD2_aDGk0k"
      }
    },
    {
      "cell_type": "code",
      "source": [
        "df_final"
      ],
      "metadata": {
        "colab": {
          "base_uri": "https://localhost:8080/",
          "height": 600
        },
        "id": "2itYB7Q_ckvk",
        "outputId": "1f9ee371-c7a5-42ec-ef4f-db9eb9cc1bea"
      },
      "execution_count": 15,
      "outputs": [
        {
          "output_type": "execute_result",
          "data": {
            "text/plain": [
              "           country  date  PIB (USD a precios actuales)  \\\n",
              "0        Argentina  2000                  2.842038e+11   \n",
              "1        Argentina  2001                  2.686968e+11   \n",
              "2        Argentina  2002                  9.772400e+10   \n",
              "3        Argentina  2003                  1.275870e+11   \n",
              "4        Argentina  2004                  1.646579e+11   \n",
              "..             ...   ...                           ...   \n",
              "295  Venezuela, RB  2020                           NaN   \n",
              "296  Venezuela, RB  2021                           NaN   \n",
              "297  Venezuela, RB  2022                           NaN   \n",
              "298  Venezuela, RB  2023                           NaN   \n",
              "299  Venezuela, RB  2024                           NaN   \n",
              "\n",
              "     PIB per cápita (USD actuales)  Crecimiento del PIB (% anual)  \\\n",
              "0                      7637.014892                      -0.788999   \n",
              "1                      7141.475077                      -4.408840   \n",
              "2                      2569.699635                     -10.894485   \n",
              "3                      3320.477751                       8.837041   \n",
              "4                      4242.020991                       9.029573   \n",
              "..                             ...                            ...   \n",
              "295                            NaN                            NaN   \n",
              "296                            NaN                            NaN   \n",
              "297                            NaN                            NaN   \n",
              "298                            NaN                            NaN   \n",
              "299                            NaN                            NaN   \n",
              "\n",
              "     Formación bruta de capital fijo (% PIB)  Inflación (IPC, % anual)  \\\n",
              "0                                  16.192649                       NaN   \n",
              "1                                  14.179118                       NaN   \n",
              "2                                  11.960648                       NaN   \n",
              "3                                  15.137508                       NaN   \n",
              "4                                  15.893787                       NaN   \n",
              "..                                       ...                       ...   \n",
              "295                                      NaN                       NaN   \n",
              "296                                      NaN                       NaN   \n",
              "297                                      NaN                       NaN   \n",
              "298                                      NaN                       NaN   \n",
              "299                                      NaN                       NaN   \n",
              "\n",
              "     Exportaciones (% del PIB)  Importaciones (% del PIB)  \\\n",
              "0                    10.986375                  11.636070   \n",
              "1                    11.579008                  10.273247   \n",
              "2                    28.382597                  13.370127   \n",
              "3                    25.930943                  14.713805   \n",
              "4                    23.847619                  16.845027   \n",
              "..                         ...                        ...   \n",
              "295                        NaN                        NaN   \n",
              "296                        NaN                        NaN   \n",
              "297                        NaN                        NaN   \n",
              "298                        NaN                        NaN   \n",
              "299                        NaN                        NaN   \n",
              "\n",
              "     Balanza comercial (USD actuales)  \\\n",
              "0                       -1.831883e+09   \n",
              "1                        3.521811e+09   \n",
              "2                        1.571728e+10   \n",
              "3                        1.561150e+10   \n",
              "4                        1.193361e+10   \n",
              "..                                ...   \n",
              "295                               NaN   \n",
              "296                               NaN   \n",
              "297                               NaN   \n",
              "298                               NaN   \n",
              "299                               NaN   \n",
              "\n",
              "     Tasa arancelaria promedio ponderada (%)  Tasa de empleo (% población)  \\\n",
              "0                                      11.33                        52.975   \n",
              "1                                      10.01                        50.969   \n",
              "2                                      13.12                        48.336   \n",
              "3                                      14.05                        51.646   \n",
              "4                                       6.50                        53.567   \n",
              "..                                       ...                           ...   \n",
              "295                                    15.91                        48.038   \n",
              "296                                    15.37                        48.450   \n",
              "297                                    13.81                        49.747   \n",
              "298                                      NaN                        50.054   \n",
              "299                                      NaN                        49.759   \n",
              "\n",
              "     Tasa de desempleo (% fuerza laboral)  Pobreza (% bajo la línea nacional)  \\\n",
              "0                                  15.000                                 NaN   \n",
              "1                                  17.320                                 NaN   \n",
              "2                                  19.590                                 NaN   \n",
              "3                                  15.360                                 NaN   \n",
              "4                                  13.522                                 NaN   \n",
              "..                                    ...                                 ...   \n",
              "295                                 7.530                                 NaN   \n",
              "296                                 7.037                                 NaN   \n",
              "297                                 5.707                                 NaN   \n",
              "298                                 5.485                                 NaN   \n",
              "299                                 5.475                                 NaN   \n",
              "\n",
              "     Ingreso per cápita (PPP, USD internacionales)  \n",
              "0                                          11190.0  \n",
              "1                                          10800.0  \n",
              "2                                           9450.0  \n",
              "3                                          10490.0  \n",
              "4                                          10770.0  \n",
              "..                                             ...  \n",
              "295                                            NaN  \n",
              "296                                            NaN  \n",
              "297                                            NaN  \n",
              "298                                            NaN  \n",
              "299                                            NaN  \n",
              "\n",
              "[300 rows x 15 columns]"
            ],
            "text/html": [
              "\n",
              "  <div id=\"df-bdecd96c-39f9-4907-b257-aa12651adaab\" class=\"colab-df-container\">\n",
              "    <div>\n",
              "<style scoped>\n",
              "    .dataframe tbody tr th:only-of-type {\n",
              "        vertical-align: middle;\n",
              "    }\n",
              "\n",
              "    .dataframe tbody tr th {\n",
              "        vertical-align: top;\n",
              "    }\n",
              "\n",
              "    .dataframe thead th {\n",
              "        text-align: right;\n",
              "    }\n",
              "</style>\n",
              "<table border=\"1\" class=\"dataframe\">\n",
              "  <thead>\n",
              "    <tr style=\"text-align: right;\">\n",
              "      <th></th>\n",
              "      <th>country</th>\n",
              "      <th>date</th>\n",
              "      <th>PIB (USD a precios actuales)</th>\n",
              "      <th>PIB per cápita (USD actuales)</th>\n",
              "      <th>Crecimiento del PIB (% anual)</th>\n",
              "      <th>Formación bruta de capital fijo (% PIB)</th>\n",
              "      <th>Inflación (IPC, % anual)</th>\n",
              "      <th>Exportaciones (% del PIB)</th>\n",
              "      <th>Importaciones (% del PIB)</th>\n",
              "      <th>Balanza comercial (USD actuales)</th>\n",
              "      <th>Tasa arancelaria promedio ponderada (%)</th>\n",
              "      <th>Tasa de empleo (% población)</th>\n",
              "      <th>Tasa de desempleo (% fuerza laboral)</th>\n",
              "      <th>Pobreza (% bajo la línea nacional)</th>\n",
              "      <th>Ingreso per cápita (PPP, USD internacionales)</th>\n",
              "    </tr>\n",
              "  </thead>\n",
              "  <tbody>\n",
              "    <tr>\n",
              "      <th>0</th>\n",
              "      <td>Argentina</td>\n",
              "      <td>2000</td>\n",
              "      <td>2.842038e+11</td>\n",
              "      <td>7637.014892</td>\n",
              "      <td>-0.788999</td>\n",
              "      <td>16.192649</td>\n",
              "      <td>NaN</td>\n",
              "      <td>10.986375</td>\n",
              "      <td>11.636070</td>\n",
              "      <td>-1.831883e+09</td>\n",
              "      <td>11.33</td>\n",
              "      <td>52.975</td>\n",
              "      <td>15.000</td>\n",
              "      <td>NaN</td>\n",
              "      <td>11190.0</td>\n",
              "    </tr>\n",
              "    <tr>\n",
              "      <th>1</th>\n",
              "      <td>Argentina</td>\n",
              "      <td>2001</td>\n",
              "      <td>2.686968e+11</td>\n",
              "      <td>7141.475077</td>\n",
              "      <td>-4.408840</td>\n",
              "      <td>14.179118</td>\n",
              "      <td>NaN</td>\n",
              "      <td>11.579008</td>\n",
              "      <td>10.273247</td>\n",
              "      <td>3.521811e+09</td>\n",
              "      <td>10.01</td>\n",
              "      <td>50.969</td>\n",
              "      <td>17.320</td>\n",
              "      <td>NaN</td>\n",
              "      <td>10800.0</td>\n",
              "    </tr>\n",
              "    <tr>\n",
              "      <th>2</th>\n",
              "      <td>Argentina</td>\n",
              "      <td>2002</td>\n",
              "      <td>9.772400e+10</td>\n",
              "      <td>2569.699635</td>\n",
              "      <td>-10.894485</td>\n",
              "      <td>11.960648</td>\n",
              "      <td>NaN</td>\n",
              "      <td>28.382597</td>\n",
              "      <td>13.370127</td>\n",
              "      <td>1.571728e+10</td>\n",
              "      <td>13.12</td>\n",
              "      <td>48.336</td>\n",
              "      <td>19.590</td>\n",
              "      <td>NaN</td>\n",
              "      <td>9450.0</td>\n",
              "    </tr>\n",
              "    <tr>\n",
              "      <th>3</th>\n",
              "      <td>Argentina</td>\n",
              "      <td>2003</td>\n",
              "      <td>1.275870e+11</td>\n",
              "      <td>3320.477751</td>\n",
              "      <td>8.837041</td>\n",
              "      <td>15.137508</td>\n",
              "      <td>NaN</td>\n",
              "      <td>25.930943</td>\n",
              "      <td>14.713805</td>\n",
              "      <td>1.561150e+10</td>\n",
              "      <td>14.05</td>\n",
              "      <td>51.646</td>\n",
              "      <td>15.360</td>\n",
              "      <td>NaN</td>\n",
              "      <td>10490.0</td>\n",
              "    </tr>\n",
              "    <tr>\n",
              "      <th>4</th>\n",
              "      <td>Argentina</td>\n",
              "      <td>2004</td>\n",
              "      <td>1.646579e+11</td>\n",
              "      <td>4242.020991</td>\n",
              "      <td>9.029573</td>\n",
              "      <td>15.893787</td>\n",
              "      <td>NaN</td>\n",
              "      <td>23.847619</td>\n",
              "      <td>16.845027</td>\n",
              "      <td>1.193361e+10</td>\n",
              "      <td>6.50</td>\n",
              "      <td>53.567</td>\n",
              "      <td>13.522</td>\n",
              "      <td>NaN</td>\n",
              "      <td>10770.0</td>\n",
              "    </tr>\n",
              "    <tr>\n",
              "      <th>...</th>\n",
              "      <td>...</td>\n",
              "      <td>...</td>\n",
              "      <td>...</td>\n",
              "      <td>...</td>\n",
              "      <td>...</td>\n",
              "      <td>...</td>\n",
              "      <td>...</td>\n",
              "      <td>...</td>\n",
              "      <td>...</td>\n",
              "      <td>...</td>\n",
              "      <td>...</td>\n",
              "      <td>...</td>\n",
              "      <td>...</td>\n",
              "      <td>...</td>\n",
              "      <td>...</td>\n",
              "    </tr>\n",
              "    <tr>\n",
              "      <th>295</th>\n",
              "      <td>Venezuela, RB</td>\n",
              "      <td>2020</td>\n",
              "      <td>NaN</td>\n",
              "      <td>NaN</td>\n",
              "      <td>NaN</td>\n",
              "      <td>NaN</td>\n",
              "      <td>NaN</td>\n",
              "      <td>NaN</td>\n",
              "      <td>NaN</td>\n",
              "      <td>NaN</td>\n",
              "      <td>15.91</td>\n",
              "      <td>48.038</td>\n",
              "      <td>7.530</td>\n",
              "      <td>NaN</td>\n",
              "      <td>NaN</td>\n",
              "    </tr>\n",
              "    <tr>\n",
              "      <th>296</th>\n",
              "      <td>Venezuela, RB</td>\n",
              "      <td>2021</td>\n",
              "      <td>NaN</td>\n",
              "      <td>NaN</td>\n",
              "      <td>NaN</td>\n",
              "      <td>NaN</td>\n",
              "      <td>NaN</td>\n",
              "      <td>NaN</td>\n",
              "      <td>NaN</td>\n",
              "      <td>NaN</td>\n",
              "      <td>15.37</td>\n",
              "      <td>48.450</td>\n",
              "      <td>7.037</td>\n",
              "      <td>NaN</td>\n",
              "      <td>NaN</td>\n",
              "    </tr>\n",
              "    <tr>\n",
              "      <th>297</th>\n",
              "      <td>Venezuela, RB</td>\n",
              "      <td>2022</td>\n",
              "      <td>NaN</td>\n",
              "      <td>NaN</td>\n",
              "      <td>NaN</td>\n",
              "      <td>NaN</td>\n",
              "      <td>NaN</td>\n",
              "      <td>NaN</td>\n",
              "      <td>NaN</td>\n",
              "      <td>NaN</td>\n",
              "      <td>13.81</td>\n",
              "      <td>49.747</td>\n",
              "      <td>5.707</td>\n",
              "      <td>NaN</td>\n",
              "      <td>NaN</td>\n",
              "    </tr>\n",
              "    <tr>\n",
              "      <th>298</th>\n",
              "      <td>Venezuela, RB</td>\n",
              "      <td>2023</td>\n",
              "      <td>NaN</td>\n",
              "      <td>NaN</td>\n",
              "      <td>NaN</td>\n",
              "      <td>NaN</td>\n",
              "      <td>NaN</td>\n",
              "      <td>NaN</td>\n",
              "      <td>NaN</td>\n",
              "      <td>NaN</td>\n",
              "      <td>NaN</td>\n",
              "      <td>50.054</td>\n",
              "      <td>5.485</td>\n",
              "      <td>NaN</td>\n",
              "      <td>NaN</td>\n",
              "    </tr>\n",
              "    <tr>\n",
              "      <th>299</th>\n",
              "      <td>Venezuela, RB</td>\n",
              "      <td>2024</td>\n",
              "      <td>NaN</td>\n",
              "      <td>NaN</td>\n",
              "      <td>NaN</td>\n",
              "      <td>NaN</td>\n",
              "      <td>NaN</td>\n",
              "      <td>NaN</td>\n",
              "      <td>NaN</td>\n",
              "      <td>NaN</td>\n",
              "      <td>NaN</td>\n",
              "      <td>49.759</td>\n",
              "      <td>5.475</td>\n",
              "      <td>NaN</td>\n",
              "      <td>NaN</td>\n",
              "    </tr>\n",
              "  </tbody>\n",
              "</table>\n",
              "<p>300 rows × 15 columns</p>\n",
              "</div>\n",
              "    <div class=\"colab-df-buttons\">\n",
              "\n",
              "  <div class=\"colab-df-container\">\n",
              "    <button class=\"colab-df-convert\" onclick=\"convertToInteractive('df-bdecd96c-39f9-4907-b257-aa12651adaab')\"\n",
              "            title=\"Convert this dataframe to an interactive table.\"\n",
              "            style=\"display:none;\">\n",
              "\n",
              "  <svg xmlns=\"http://www.w3.org/2000/svg\" height=\"24px\" viewBox=\"0 -960 960 960\">\n",
              "    <path d=\"M120-120v-720h720v720H120Zm60-500h600v-160H180v160Zm220 220h160v-160H400v160Zm0 220h160v-160H400v160ZM180-400h160v-160H180v160Zm440 0h160v-160H620v160ZM180-180h160v-160H180v160Zm440 0h160v-160H620v160Z\"/>\n",
              "  </svg>\n",
              "    </button>\n",
              "\n",
              "  <style>\n",
              "    .colab-df-container {\n",
              "      display:flex;\n",
              "      gap: 12px;\n",
              "    }\n",
              "\n",
              "    .colab-df-convert {\n",
              "      background-color: #E8F0FE;\n",
              "      border: none;\n",
              "      border-radius: 50%;\n",
              "      cursor: pointer;\n",
              "      display: none;\n",
              "      fill: #1967D2;\n",
              "      height: 32px;\n",
              "      padding: 0 0 0 0;\n",
              "      width: 32px;\n",
              "    }\n",
              "\n",
              "    .colab-df-convert:hover {\n",
              "      background-color: #E2EBFA;\n",
              "      box-shadow: 0px 1px 2px rgba(60, 64, 67, 0.3), 0px 1px 3px 1px rgba(60, 64, 67, 0.15);\n",
              "      fill: #174EA6;\n",
              "    }\n",
              "\n",
              "    .colab-df-buttons div {\n",
              "      margin-bottom: 4px;\n",
              "    }\n",
              "\n",
              "    [theme=dark] .colab-df-convert {\n",
              "      background-color: #3B4455;\n",
              "      fill: #D2E3FC;\n",
              "    }\n",
              "\n",
              "    [theme=dark] .colab-df-convert:hover {\n",
              "      background-color: #434B5C;\n",
              "      box-shadow: 0px 1px 3px 1px rgba(0, 0, 0, 0.15);\n",
              "      filter: drop-shadow(0px 1px 2px rgba(0, 0, 0, 0.3));\n",
              "      fill: #FFFFFF;\n",
              "    }\n",
              "  </style>\n",
              "\n",
              "    <script>\n",
              "      const buttonEl =\n",
              "        document.querySelector('#df-bdecd96c-39f9-4907-b257-aa12651adaab button.colab-df-convert');\n",
              "      buttonEl.style.display =\n",
              "        google.colab.kernel.accessAllowed ? 'block' : 'none';\n",
              "\n",
              "      async function convertToInteractive(key) {\n",
              "        const element = document.querySelector('#df-bdecd96c-39f9-4907-b257-aa12651adaab');\n",
              "        const dataTable =\n",
              "          await google.colab.kernel.invokeFunction('convertToInteractive',\n",
              "                                                    [key], {});\n",
              "        if (!dataTable) return;\n",
              "\n",
              "        const docLinkHtml = 'Like what you see? Visit the ' +\n",
              "          '<a target=\"_blank\" href=https://colab.research.google.com/notebooks/data_table.ipynb>data table notebook</a>'\n",
              "          + ' to learn more about interactive tables.';\n",
              "        element.innerHTML = '';\n",
              "        dataTable['output_type'] = 'display_data';\n",
              "        await google.colab.output.renderOutput(dataTable, element);\n",
              "        const docLink = document.createElement('div');\n",
              "        docLink.innerHTML = docLinkHtml;\n",
              "        element.appendChild(docLink);\n",
              "      }\n",
              "    </script>\n",
              "  </div>\n",
              "\n",
              "\n",
              "    <div id=\"df-26b3b88b-eeee-46de-857d-94afad0d718b\">\n",
              "      <button class=\"colab-df-quickchart\" onclick=\"quickchart('df-26b3b88b-eeee-46de-857d-94afad0d718b')\"\n",
              "                title=\"Suggest charts\"\n",
              "                style=\"display:none;\">\n",
              "\n",
              "<svg xmlns=\"http://www.w3.org/2000/svg\" height=\"24px\"viewBox=\"0 0 24 24\"\n",
              "     width=\"24px\">\n",
              "    <g>\n",
              "        <path d=\"M19 3H5c-1.1 0-2 .9-2 2v14c0 1.1.9 2 2 2h14c1.1 0 2-.9 2-2V5c0-1.1-.9-2-2-2zM9 17H7v-7h2v7zm4 0h-2V7h2v10zm4 0h-2v-4h2v4z\"/>\n",
              "    </g>\n",
              "</svg>\n",
              "      </button>\n",
              "\n",
              "<style>\n",
              "  .colab-df-quickchart {\n",
              "      --bg-color: #E8F0FE;\n",
              "      --fill-color: #1967D2;\n",
              "      --hover-bg-color: #E2EBFA;\n",
              "      --hover-fill-color: #174EA6;\n",
              "      --disabled-fill-color: #AAA;\n",
              "      --disabled-bg-color: #DDD;\n",
              "  }\n",
              "\n",
              "  [theme=dark] .colab-df-quickchart {\n",
              "      --bg-color: #3B4455;\n",
              "      --fill-color: #D2E3FC;\n",
              "      --hover-bg-color: #434B5C;\n",
              "      --hover-fill-color: #FFFFFF;\n",
              "      --disabled-bg-color: #3B4455;\n",
              "      --disabled-fill-color: #666;\n",
              "  }\n",
              "\n",
              "  .colab-df-quickchart {\n",
              "    background-color: var(--bg-color);\n",
              "    border: none;\n",
              "    border-radius: 50%;\n",
              "    cursor: pointer;\n",
              "    display: none;\n",
              "    fill: var(--fill-color);\n",
              "    height: 32px;\n",
              "    padding: 0;\n",
              "    width: 32px;\n",
              "  }\n",
              "\n",
              "  .colab-df-quickchart:hover {\n",
              "    background-color: var(--hover-bg-color);\n",
              "    box-shadow: 0 1px 2px rgba(60, 64, 67, 0.3), 0 1px 3px 1px rgba(60, 64, 67, 0.15);\n",
              "    fill: var(--button-hover-fill-color);\n",
              "  }\n",
              "\n",
              "  .colab-df-quickchart-complete:disabled,\n",
              "  .colab-df-quickchart-complete:disabled:hover {\n",
              "    background-color: var(--disabled-bg-color);\n",
              "    fill: var(--disabled-fill-color);\n",
              "    box-shadow: none;\n",
              "  }\n",
              "\n",
              "  .colab-df-spinner {\n",
              "    border: 2px solid var(--fill-color);\n",
              "    border-color: transparent;\n",
              "    border-bottom-color: var(--fill-color);\n",
              "    animation:\n",
              "      spin 1s steps(1) infinite;\n",
              "  }\n",
              "\n",
              "  @keyframes spin {\n",
              "    0% {\n",
              "      border-color: transparent;\n",
              "      border-bottom-color: var(--fill-color);\n",
              "      border-left-color: var(--fill-color);\n",
              "    }\n",
              "    20% {\n",
              "      border-color: transparent;\n",
              "      border-left-color: var(--fill-color);\n",
              "      border-top-color: var(--fill-color);\n",
              "    }\n",
              "    30% {\n",
              "      border-color: transparent;\n",
              "      border-left-color: var(--fill-color);\n",
              "      border-top-color: var(--fill-color);\n",
              "      border-right-color: var(--fill-color);\n",
              "    }\n",
              "    40% {\n",
              "      border-color: transparent;\n",
              "      border-right-color: var(--fill-color);\n",
              "      border-top-color: var(--fill-color);\n",
              "    }\n",
              "    60% {\n",
              "      border-color: transparent;\n",
              "      border-right-color: var(--fill-color);\n",
              "    }\n",
              "    80% {\n",
              "      border-color: transparent;\n",
              "      border-right-color: var(--fill-color);\n",
              "      border-bottom-color: var(--fill-color);\n",
              "    }\n",
              "    90% {\n",
              "      border-color: transparent;\n",
              "      border-bottom-color: var(--fill-color);\n",
              "    }\n",
              "  }\n",
              "</style>\n",
              "\n",
              "      <script>\n",
              "        async function quickchart(key) {\n",
              "          const quickchartButtonEl =\n",
              "            document.querySelector('#' + key + ' button');\n",
              "          quickchartButtonEl.disabled = true;  // To prevent multiple clicks.\n",
              "          quickchartButtonEl.classList.add('colab-df-spinner');\n",
              "          try {\n",
              "            const charts = await google.colab.kernel.invokeFunction(\n",
              "                'suggestCharts', [key], {});\n",
              "          } catch (error) {\n",
              "            console.error('Error during call to suggestCharts:', error);\n",
              "          }\n",
              "          quickchartButtonEl.classList.remove('colab-df-spinner');\n",
              "          quickchartButtonEl.classList.add('colab-df-quickchart-complete');\n",
              "        }\n",
              "        (() => {\n",
              "          let quickchartButtonEl =\n",
              "            document.querySelector('#df-26b3b88b-eeee-46de-857d-94afad0d718b button');\n",
              "          quickchartButtonEl.style.display =\n",
              "            google.colab.kernel.accessAllowed ? 'block' : 'none';\n",
              "        })();\n",
              "      </script>\n",
              "    </div>\n",
              "\n",
              "  <div id=\"id_73d5aded-f708-4185-a045-1791dbbc8254\">\n",
              "    <style>\n",
              "      .colab-df-generate {\n",
              "        background-color: #E8F0FE;\n",
              "        border: none;\n",
              "        border-radius: 50%;\n",
              "        cursor: pointer;\n",
              "        display: none;\n",
              "        fill: #1967D2;\n",
              "        height: 32px;\n",
              "        padding: 0 0 0 0;\n",
              "        width: 32px;\n",
              "      }\n",
              "\n",
              "      .colab-df-generate:hover {\n",
              "        background-color: #E2EBFA;\n",
              "        box-shadow: 0px 1px 2px rgba(60, 64, 67, 0.3), 0px 1px 3px 1px rgba(60, 64, 67, 0.15);\n",
              "        fill: #174EA6;\n",
              "      }\n",
              "\n",
              "      [theme=dark] .colab-df-generate {\n",
              "        background-color: #3B4455;\n",
              "        fill: #D2E3FC;\n",
              "      }\n",
              "\n",
              "      [theme=dark] .colab-df-generate:hover {\n",
              "        background-color: #434B5C;\n",
              "        box-shadow: 0px 1px 3px 1px rgba(0, 0, 0, 0.15);\n",
              "        filter: drop-shadow(0px 1px 2px rgba(0, 0, 0, 0.3));\n",
              "        fill: #FFFFFF;\n",
              "      }\n",
              "    </style>\n",
              "    <button class=\"colab-df-generate\" onclick=\"generateWithVariable('df_final')\"\n",
              "            title=\"Generate code using this dataframe.\"\n",
              "            style=\"display:none;\">\n",
              "\n",
              "  <svg xmlns=\"http://www.w3.org/2000/svg\" height=\"24px\"viewBox=\"0 0 24 24\"\n",
              "       width=\"24px\">\n",
              "    <path d=\"M7,19H8.4L18.45,9,17,7.55,7,17.6ZM5,21V16.75L18.45,3.32a2,2,0,0,1,2.83,0l1.4,1.43a1.91,1.91,0,0,1,.58,1.4,1.91,1.91,0,0,1-.58,1.4L9.25,21ZM18.45,9,17,7.55Zm-12,3A5.31,5.31,0,0,0,4.9,8.1,5.31,5.31,0,0,0,1,6.5,5.31,5.31,0,0,0,4.9,4.9,5.31,5.31,0,0,0,6.5,1,5.31,5.31,0,0,0,8.1,4.9,5.31,5.31,0,0,0,12,6.5,5.46,5.46,0,0,0,6.5,12Z\"/>\n",
              "  </svg>\n",
              "    </button>\n",
              "    <script>\n",
              "      (() => {\n",
              "      const buttonEl =\n",
              "        document.querySelector('#id_73d5aded-f708-4185-a045-1791dbbc8254 button.colab-df-generate');\n",
              "      buttonEl.style.display =\n",
              "        google.colab.kernel.accessAllowed ? 'block' : 'none';\n",
              "\n",
              "      buttonEl.onclick = () => {\n",
              "        google.colab.notebook.generateWithVariable('df_final');\n",
              "      }\n",
              "      })();\n",
              "    </script>\n",
              "  </div>\n",
              "\n",
              "    </div>\n",
              "  </div>\n"
            ],
            "application/vnd.google.colaboratory.intrinsic+json": {
              "type": "dataframe",
              "variable_name": "df_final",
              "summary": "{\n  \"name\": \"df_final\",\n  \"rows\": 300,\n  \"fields\": [\n    {\n      \"column\": \"country\",\n      \"properties\": {\n        \"dtype\": \"category\",\n        \"num_unique_values\": 12,\n        \"samples\": [\n          \"Uruguay\",\n          \"Suriname\",\n          \"Argentina\"\n        ],\n        \"semantic_type\": \"\",\n        \"description\": \"\"\n      }\n    },\n    {\n      \"column\": \"date\",\n      \"properties\": {\n        \"dtype\": \"object\",\n        \"num_unique_values\": 25,\n        \"samples\": [\n          \"2008\",\n          \"2016\",\n          \"2000\"\n        ],\n        \"semantic_type\": \"\",\n        \"description\": \"\"\n      }\n    },\n    {\n      \"column\": \"PIB (USD a precios actuales)\",\n      \"properties\": {\n        \"dtype\": \"number\",\n        \"std\": 481185119568.61993,\n        \"min\": 712167450.162898,\n        \"max\": 2616156223977.47,\n        \"num_unique_values\": 279,\n        \"samples\": [\n          11451844902.2214,\n          45690762000.0,\n          102170981144.136\n        ],\n        \"semantic_type\": \"\",\n        \"description\": \"\"\n      }\n    },\n    {\n      \"column\": \"PIB per c\\u00e1pita (USD actuales)\",\n      \"properties\": {\n        \"dtype\": \"number\",\n        \"std\": 4572.781926013655,\n        \"min\": 888.221328974352,\n        \"max\": 22797.8111731861,\n        \"num_unique_values\": 279,\n        \"samples\": [\n          1202.71150446327,\n          3243.67010359339,\n          3581.0893081917\n        ],\n        \"semantic_type\": \"\",\n        \"description\": \"\"\n      }\n    },\n    {\n      \"column\": \"Crecimiento del PIB (% anual)\",\n      \"properties\": {\n        \"dtype\": \"number\",\n        \"std\": 6.371934018421916,\n        \"min\": -15.9751917148622,\n        \"max\": 63.3345871591983,\n        \"num_unique_values\": 279,\n        \"samples\": [\n          4.79700882356067,\n          4.34113198577639,\n          8.5183877690955\n        ],\n        \"semantic_type\": \"\",\n        \"description\": \"\"\n      }\n    },\n    {\n      \"column\": \"Formaci\\u00f3n bruta de capital fijo (% PIB)\",\n      \"properties\": {\n        \"dtype\": \"number\",\n        \"std\": 4.635823452431498,\n        \"min\": 11.6871210206907,\n        \"max\": 47.076518142508,\n        \"num_unique_values\": 242,\n        \"samples\": [\n          17.8874789626329,\n          18.3311867225446,\n          15.1959191892824\n        ],\n        \"semantic_type\": \"\",\n        \"description\": \"\"\n      }\n    },\n    {\n      \"column\": \"Inflaci\\u00f3n (IPC, % anual)\",\n      \"properties\": {\n        \"dtype\": \"number\",\n        \"std\": 20.358331877394445,\n        \"min\": -1.00173432776374,\n        \"max\": 254.948534781816,\n        \"num_unique_values\": 256,\n        \"samples\": [\n          4.6992773903564,\n          4.28239604802561,\n          5.90402005546502\n        ],\n        \"semantic_type\": \"\",\n        \"description\": \"\"\n      }\n    },\n    {\n      \"column\": \"Exportaciones (% del PIB)\",\n      \"properties\": {\n        \"dtype\": \"number\",\n        \"std\": 14.298200377901177,\n        \"min\": 10.1880480043795,\n        \"max\": 96.0799732120736,\n        \"num_unique_values\": 242,\n        \"samples\": [\n          18.2747449737713,\n          23.0266946038115,\n          47.4750765387374\n        ],\n        \"semantic_type\": \"\",\n        \"description\": \"\"\n      }\n    },\n    {\n      \"column\": \"Importaciones (% del PIB)\",\n      \"properties\": {\n        \"dtype\": \"number\",\n        \"std\": 15.005294846188244,\n        \"min\": 10.2732473690136,\n        \"max\": 110.687397263141,\n        \"num_unique_values\": 242,\n        \"samples\": [\n          27.3230300480841,\n          17.4067852681036,\n          31.9664891095553\n        ],\n        \"semantic_type\": \"\",\n        \"description\": \"\"\n      }\n    },\n    {\n      \"column\": \"Balanza comercial (USD actuales)\",\n      \"properties\": {\n        \"dtype\": \"number\",\n        \"std\": 10260664531.634317,\n        \"min\": -63791507501.575,\n        \"max\": 48997429682.235,\n        \"num_unique_values\": 278,\n        \"samples\": [\n          892459631.560589,\n          -371492821.663804,\n          8248862336.18374\n        ],\n        \"semantic_type\": \"\",\n        \"description\": \"\"\n      }\n    },\n    {\n      \"column\": \"Tasa arancelaria promedio ponderada (%)\",\n      \"properties\": {\n        \"dtype\": \"number\",\n        \"std\": 3.2780805342913117,\n        \"min\": 0.46,\n        \"max\": 16.08,\n        \"num_unique_values\": 214,\n        \"samples\": [\n          6.65,\n          14.66,\n          2.44\n        ],\n        \"semantic_type\": \"\",\n        \"description\": \"\"\n      }\n    },\n    {\n      \"column\": \"Tasa de empleo (% poblaci\\u00f3n)\",\n      \"properties\": {\n        \"dtype\": \"number\",\n        \"std\": 7.682272313107791,\n        \"min\": 41.045,\n        \"max\": 76.388,\n        \"num_unique_values\": 299,\n        \"samples\": [\n          59.278,\n          60.072,\n          48.273\n        ],\n        \"semantic_type\": \"\",\n        \"description\": \"\"\n      }\n    },\n    {\n      \"column\": \"Tasa de desempleo (% fuerza laboral)\",\n      \"properties\": {\n        \"dtype\": \"number\",\n        \"std\": 3.5965465674085815,\n        \"min\": 2.021,\n        \"max\": 20.52,\n        \"num_unique_values\": 296,\n        \"samples\": [\n          13.04,\n          10.7,\n          8.278\n        ],\n        \"semantic_type\": \"\",\n        \"description\": \"\"\n      }\n    },\n    {\n      \"column\": \"Pobreza (% bajo la l\\u00ednea nacional)\",\n      \"properties\": {\n        \"dtype\": \"number\",\n        \"std\": 12.755030015700305,\n        \"min\": 6.5,\n        \"max\": 66.4,\n        \"num_unique_values\": 99,\n        \"samples\": [\n          28.0,\n          28.6,\n          26.8\n        ],\n        \"semantic_type\": \"\",\n        \"description\": \"\"\n      }\n    },\n    {\n      \"column\": \"Ingreso per c\\u00e1pita (PPP, USD internacionales)\",\n      \"properties\": {\n        \"dtype\": \"number\",\n        \"std\": 5870.275358553783,\n        \"min\": 3270.0,\n        \"max\": 33240.0,\n        \"num_unique_values\": 256,\n        \"samples\": [\n          14080.0,\n          14350.0,\n          18370.0\n        ],\n        \"semantic_type\": \"\",\n        \"description\": \"\"\n      }\n    }\n  ]\n}"
            }
          },
          "metadata": {},
          "execution_count": 15
        }
      ]
    }
  ]
}